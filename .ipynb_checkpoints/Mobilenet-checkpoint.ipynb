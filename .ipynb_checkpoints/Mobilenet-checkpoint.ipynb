{
 "cells": [
  {
   "cell_type": "code",
   "execution_count": 1,
   "id": "80172451",
   "metadata": {},
   "outputs": [],
   "source": [
    "import numpy as np\n",
    "import pandas as pd\n",
    "import tensorflow as tf\n",
    "from tensorflow import keras\n",
    "from tensorflow.keras.models import Sequential\n",
    "from tensorflow.keras.layers import Conv2D, MaxPooling2D, Flatten, Dense, Dropout\n",
    "from tensorflow.keras.preprocessing.image import ImageDataGenerator\n",
    "import tensorflow_hub as hub\n",
    "import matplotlib.pylab as plt"
   ]
  },
  {
   "cell_type": "code",
   "execution_count": 2,
   "id": "ffdcb20b",
   "metadata": {},
   "outputs": [],
   "source": [
    "train_data_dir = 'Correctly Named Dataset'\n",
    "train_data_dir1 = 'ASLAlphabet/asl_alphabet_train/asl_alphabet_train'\n",
    "val_data_dir1 = 'ASLAlphabet/asl_alphabet_test/asl_alphabet_test'"
   ]
  },
  {
   "cell_type": "code",
   "execution_count": 3,
   "id": "1c2e30a8",
   "metadata": {},
   "outputs": [
    {
     "name": "stdout",
     "output_type": "stream",
     "text": [
      "Found 1944 images belonging to 26 classes.\n",
      "Found 486 images belonging to 26 classes.\n",
      "{0: 'A', 1: 'B', 2: 'C', 3: 'D', 4: 'E', 5: 'F', 6: 'G', 7: 'H', 8: 'I', 9: 'J', 10: 'K', 11: 'L', 12: 'M', 13: 'N', 14: 'O', 15: 'P', 16: 'Q', 17: 'R', 18: 'S', 19: 'T', 20: 'U', 21: 'V', 22: 'W', 23: 'X', 24: 'Y', 25: 'Z'}\n"
     ]
    }
   ],
   "source": [
    "IMG_SIZE = (224,224)\n",
    "IMG_SHAPE = IMG_SIZE + (3,)\n",
    "batch_size = 16\n",
    "\n",
    "train_datagen = ImageDataGenerator(\n",
    "    rescale=1.0 / 255.0,   \n",
    "    validation_split=0.2\n",
    ")\n",
    "\n",
    "train_generator = train_datagen.flow_from_directory(\n",
    "    train_data_dir,\n",
    "    batch_size=batch_size,\n",
    "    target_size=IMG_SIZE,\n",
    "    class_mode=\"sparse\",\n",
    "    subset='training'\n",
    ")\n",
    "\n",
    "validation_generator = train_datagen.flow_from_directory(\n",
    "    train_data_dir,\n",
    "    batch_size=batch_size,\n",
    "    target_size=IMG_SIZE,\n",
    "    class_mode=\"sparse\",\n",
    "    subset='validation'\n",
    ")\n",
    "labels = (validation_generator.class_indices)\n",
    "labels = dict((v,k) for k,v in labels.items())\n",
    "print(labels)"
   ]
  },
  {
   "cell_type": "code",
   "execution_count": 4,
   "id": "75260fa0",
   "metadata": {},
   "outputs": [
    {
     "name": "stdout",
     "output_type": "stream",
     "text": [
      "Metal device set to: Apple M1\n"
     ]
    },
    {
     "name": "stderr",
     "output_type": "stream",
     "text": [
      "2023-10-20 16:20:45.096498: I tensorflow/core/common_runtime/pluggable_device/pluggable_device_factory.cc:305] Could not identify NUMA node of platform GPU ID 0, defaulting to 0. Your kernel may not have been built with NUMA support.\n",
      "2023-10-20 16:20:45.096696: I tensorflow/core/common_runtime/pluggable_device/pluggable_device_factory.cc:271] Created TensorFlow device (/job:localhost/replica:0/task:0/device:GPU:0 with 0 MB memory) -> physical PluggableDevice (device: 0, name: METAL, pci bus id: <undefined>)\n"
     ]
    },
    {
     "name": "stdout",
     "output_type": "stream",
     "text": [
      "Model: \"sequential\"\n",
      "_________________________________________________________________\n",
      " Layer (type)                Output Shape              Param #   \n",
      "=================================================================\n",
      " mobilenetv2_1.00_224 (Funct  (None, 7, 7, 1280)       2257984   \n",
      " ional)                                                          \n",
      "                                                                 \n",
      " global_average_pooling2d (G  (None, 1280)             0         \n",
      " lobalAveragePooling2D)                                          \n",
      "                                                                 \n",
      " dropout (Dropout)           (None, 1280)              0         \n",
      "                                                                 \n",
      " dense (Dense)               (None, 26)                33306     \n",
      "                                                                 \n",
      "=================================================================\n",
      "Total params: 2,291,290\n",
      "Trainable params: 33,306\n",
      "Non-trainable params: 2,257,984\n",
      "_________________________________________________________________\n"
     ]
    }
   ],
   "source": [
    "mobilenet_v2 = \"https://tfhub.dev/google/tf2-preview/mobilenet_v2/feature_vector/4\"\n",
    "\n",
    "base_model = tf.keras.applications.MobileNetV2(input_shape=IMG_SHAPE,\n",
    "                                               include_top=False,\n",
    "                                               weights='imagenet')\n",
    "\n",
    "base_model.trainable = False\n",
    "\n",
    "neural_net = tf.keras.Sequential([\n",
    "  base_model,\n",
    "  tf.keras.layers.GlobalAveragePooling2D(),\n",
    "  tf.keras.layers.Dropout(0.3),\n",
    "  tf.keras.layers.Dense(26,activation='softmax')\n",
    "])\n",
    "\n",
    "neural_net.summary()"
   ]
  },
  {
   "cell_type": "code",
   "execution_count": 5,
   "id": "3a909c8f",
   "metadata": {},
   "outputs": [
    {
     "name": "stdout",
     "output_type": "stream",
     "text": [
      "Epoch 1/40\n"
     ]
    },
    {
     "name": "stderr",
     "output_type": "stream",
     "text": [
      "2023-10-20 16:20:46.892278: W tensorflow/core/platform/profile_utils/cpu_utils.cc:128] Failed to get CPU frequency: 0 Hz\n",
      "2023-10-20 16:20:48.625029: I tensorflow/core/grappler/optimizers/custom_graph_optimizer_registry.cc:113] Plugin optimizer for device_type GPU is enabled.\n"
     ]
    },
    {
     "name": "stdout",
     "output_type": "stream",
     "text": [
      "122/122 [==============================] - ETA: 0s - loss: 2.6987 - acc: 0.2629"
     ]
    },
    {
     "name": "stderr",
     "output_type": "stream",
     "text": [
      "2023-10-20 16:21:25.990656: I tensorflow/core/grappler/optimizers/custom_graph_optimizer_registry.cc:113] Plugin optimizer for device_type GPU is enabled.\n"
     ]
    },
    {
     "name": "stdout",
     "output_type": "stream",
     "text": [
      "122/122 [==============================] - 49s 381ms/step - loss: 2.6987 - acc: 0.2629 - val_loss: 1.8453 - val_acc: 0.4938\n",
      "Epoch 2/40\n",
      "122/122 [==============================] - 46s 375ms/step - loss: 1.3423 - acc: 0.6420 - val_loss: 1.3188 - val_acc: 0.6317\n",
      "Epoch 3/40\n",
      "122/122 [==============================] - 45s 368ms/step - loss: 0.9008 - acc: 0.7670 - val_loss: 1.0888 - val_acc: 0.7099\n",
      "Epoch 4/40\n",
      "122/122 [==============================] - 46s 375ms/step - loss: 0.6585 - acc: 0.8498 - val_loss: 0.9839 - val_acc: 0.7099\n",
      "Epoch 5/40\n",
      "122/122 [==============================] - 48s 391ms/step - loss: 0.5034 - acc: 0.8909 - val_loss: 0.8811 - val_acc: 0.7407\n",
      "Epoch 6/40\n",
      "122/122 [==============================] - 45s 365ms/step - loss: 0.4070 - acc: 0.9290 - val_loss: 0.8019 - val_acc: 0.7428\n",
      "Epoch 7/40\n",
      "122/122 [==============================] - 44s 365ms/step - loss: 0.3289 - acc: 0.9444 - val_loss: 0.7918 - val_acc: 0.7634\n",
      "Epoch 8/40\n",
      "122/122 [==============================] - 44s 357ms/step - loss: 0.2807 - acc: 0.9588 - val_loss: 0.7407 - val_acc: 0.7798\n",
      "Epoch 9/40\n",
      "122/122 [==============================] - 44s 359ms/step - loss: 0.2419 - acc: 0.9630 - val_loss: 0.7163 - val_acc: 0.7634\n",
      "Epoch 10/40\n",
      "122/122 [==============================] - 43s 355ms/step - loss: 0.2044 - acc: 0.9779 - val_loss: 0.6977 - val_acc: 0.7757\n",
      "Epoch 11/40\n",
      "122/122 [==============================] - 44s 359ms/step - loss: 0.1765 - acc: 0.9820 - val_loss: 0.6811 - val_acc: 0.7922\n",
      "Epoch 12/40\n",
      "122/122 [==============================] - 44s 359ms/step - loss: 0.1454 - acc: 0.9913 - val_loss: 0.6638 - val_acc: 0.8045\n",
      "Epoch 13/40\n",
      "122/122 [==============================] - 44s 359ms/step - loss: 0.1395 - acc: 0.9866 - val_loss: 0.6347 - val_acc: 0.8210\n",
      "Epoch 14/40\n",
      "122/122 [==============================] - 44s 360ms/step - loss: 0.1170 - acc: 0.9928 - val_loss: 0.6167 - val_acc: 0.7984\n",
      "Epoch 15/40\n",
      "122/122 [==============================] - 48s 397ms/step - loss: 0.1020 - acc: 0.9964 - val_loss: 0.6449 - val_acc: 0.8004\n",
      "Epoch 16/40\n",
      "122/122 [==============================] - 48s 388ms/step - loss: 0.0919 - acc: 0.9979 - val_loss: 0.6184 - val_acc: 0.8004\n",
      "Epoch 17/40\n",
      "122/122 [==============================] - 46s 380ms/step - loss: 0.0889 - acc: 0.9969 - val_loss: 0.6070 - val_acc: 0.8128\n",
      "Epoch 18/40\n",
      "122/122 [==============================] - 43s 355ms/step - loss: 0.0775 - acc: 0.9959 - val_loss: 0.5997 - val_acc: 0.8004\n",
      "Epoch 19/40\n",
      "122/122 [==============================] - 43s 351ms/step - loss: 0.0697 - acc: 0.9985 - val_loss: 0.6011 - val_acc: 0.8189\n",
      "Epoch 20/40\n",
      "122/122 [==============================] - 42s 345ms/step - loss: 0.0633 - acc: 0.9995 - val_loss: 0.5843 - val_acc: 0.8107\n",
      "Epoch 21/40\n",
      "122/122 [==============================] - 42s 345ms/step - loss: 0.0543 - acc: 0.9990 - val_loss: 0.6028 - val_acc: 0.8066\n",
      "Epoch 22/40\n",
      "122/122 [==============================] - 43s 355ms/step - loss: 0.0518 - acc: 0.9990 - val_loss: 0.5827 - val_acc: 0.8210\n",
      "Epoch 23/40\n",
      "122/122 [==============================] - 43s 355ms/step - loss: 0.0510 - acc: 0.9974 - val_loss: 0.6247 - val_acc: 0.8066\n",
      "Epoch 24/40\n",
      "122/122 [==============================] - 42s 347ms/step - loss: 0.0454 - acc: 0.9995 - val_loss: 0.5891 - val_acc: 0.8148\n",
      "Epoch 25/40\n",
      "122/122 [==============================] - 42s 347ms/step - loss: 0.0413 - acc: 1.0000 - val_loss: 0.5808 - val_acc: 0.8272\n",
      "Epoch 26/40\n",
      "122/122 [==============================] - 44s 357ms/step - loss: 0.0402 - acc: 1.0000 - val_loss: 0.5717 - val_acc: 0.8230\n",
      "Epoch 27/40\n",
      "122/122 [==============================] - 43s 349ms/step - loss: 0.0352 - acc: 1.0000 - val_loss: 0.5878 - val_acc: 0.8169\n",
      "Epoch 28/40\n",
      "122/122 [==============================] - 42s 347ms/step - loss: 0.0344 - acc: 0.9995 - val_loss: 0.5739 - val_acc: 0.8148\n",
      "Epoch 29/40\n",
      "122/122 [==============================] - 43s 353ms/step - loss: 0.0320 - acc: 0.9995 - val_loss: 0.5698 - val_acc: 0.8210\n",
      "Epoch 30/40\n",
      "122/122 [==============================] - 43s 348ms/step - loss: 0.0290 - acc: 1.0000 - val_loss: 0.5659 - val_acc: 0.8374\n",
      "Epoch 31/40\n",
      "122/122 [==============================] - 43s 350ms/step - loss: 0.0272 - acc: 1.0000 - val_loss: 0.5663 - val_acc: 0.8251\n",
      "Epoch 32/40\n",
      "122/122 [==============================] - 43s 351ms/step - loss: 0.0252 - acc: 1.0000 - val_loss: 0.5628 - val_acc: 0.8395\n",
      "Epoch 33/40\n",
      "122/122 [==============================] - 42s 348ms/step - loss: 0.0251 - acc: 1.0000 - val_loss: 0.5588 - val_acc: 0.8354\n",
      "Epoch 34/40\n",
      "122/122 [==============================] - 43s 348ms/step - loss: 0.0244 - acc: 0.9995 - val_loss: 0.5629 - val_acc: 0.8272\n",
      "Epoch 35/40\n",
      "122/122 [==============================] - 43s 349ms/step - loss: 0.0200 - acc: 1.0000 - val_loss: 0.5656 - val_acc: 0.8272\n",
      "Epoch 36/40\n",
      "122/122 [==============================] - 43s 348ms/step - loss: 0.0214 - acc: 0.9995 - val_loss: 0.5557 - val_acc: 0.8272\n",
      "Epoch 37/40\n",
      "122/122 [==============================] - 42s 347ms/step - loss: 0.0184 - acc: 1.0000 - val_loss: 0.5558 - val_acc: 0.8251\n",
      "Epoch 38/40\n",
      "122/122 [==============================] - 42s 348ms/step - loss: 0.0177 - acc: 0.9995 - val_loss: 0.5356 - val_acc: 0.8354\n",
      "Epoch 39/40\n",
      "122/122 [==============================] - 42s 348ms/step - loss: 0.0181 - acc: 1.0000 - val_loss: 0.5707 - val_acc: 0.8107\n",
      "Epoch 40/40\n",
      "122/122 [==============================] - 42s 348ms/step - loss: 0.0158 - acc: 1.0000 - val_loss: 0.5542 - val_acc: 0.8395\n"
     ]
    }
   ],
   "source": [
    "neural_net.compile(\n",
    "  optimizer='adam',\n",
    "  loss='sparse_categorical_crossentropy',\n",
    "  metrics=['acc'])\n",
    "\n",
    "callback = tf.keras.callbacks.EarlyStopping(monitor='val_loss', patience=3)\n",
    "\n",
    "# Train the model\n",
    "epochs = 40\n",
    "history = neural_net.fit(\n",
    "    train_generator,\n",
    "    epochs=epochs,\n",
    "    validation_data = validation_generator,\n",
    "    callbacks=[callback]\n",
    ")\n",
    "\n",
    "neural_net.save('mobilenet.h5')"
   ]
  },
  {
   "cell_type": "code",
   "execution_count": null,
   "id": "49bfc39a",
   "metadata": {},
   "outputs": [],
   "source": []
  }
 ],
 "metadata": {
  "kernelspec": {
   "display_name": "mlp",
   "language": "python",
   "name": "mlp"
  },
  "language_info": {
   "codemirror_mode": {
    "name": "ipython",
    "version": 3
   },
   "file_extension": ".py",
   "mimetype": "text/x-python",
   "name": "python",
   "nbconvert_exporter": "python",
   "pygments_lexer": "ipython3",
   "version": "3.8.13"
  }
 },
 "nbformat": 4,
 "nbformat_minor": 5
}
